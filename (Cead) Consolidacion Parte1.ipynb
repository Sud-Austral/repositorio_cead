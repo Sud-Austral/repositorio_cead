{
 "cells": [
  {
   "cell_type": "code",
   "execution_count": 1,
   "metadata": {},
   "outputs": [],
   "source": [
    "import os\n",
    "import shutil\n",
    "import pandas as pd"
   ]
  },
  {
   "cell_type": "code",
   "execution_count": 2,
   "metadata": {
    "scrolled": true
   },
   "outputs": [],
   "source": [
    "import os\n",
    "import shutil\n",
    "\n",
    "for root, dirs, files in os.walk(r\"C:\\Users\\gusti\\Downloads\"):\n",
    "    for filename in files:\n",
    "        if (\"reportesEstadisticos-porDelito\" in filename):\n",
    "            print(filename)\n",
    "            dfAux = pd.read_html(r\"C:/Users/gusti/Downloads/\" + filename, encoding = \"UTF-8\")\n",
    "            shutil.copy(r\"C:/Users/gusti/Downloads/\" + filename , r\"C:/Users/gusti/grafico_prueba/descargasCEAD/\" + f\"{dfAux[0][2][7]}_{dfAux[0][2][2]}_{dfAux[0][2][1]}.xls\")"
   ]
  },
  {
   "cell_type": "code",
   "execution_count": null,
   "metadata": {
    "scrolled": true
   },
   "outputs": [],
   "source": [
    "salidaFinal = []\n",
    "for root, dirs, files in os.walk(r\"C:\\Users\\gusti\\grafico_prueba\\descargasCEAD\"):\n",
    "    for filename in files:\n",
    "        if (\"Detenciones\" or \"Casos Policiales\" or \"Denuncias\" or \"Aprehendidos\" in filename and \"Frecuencia\" in filename or \"Tasa Cada 100.000 Habitantes\" in filename):\n",
    "            print(filename)\n",
    "            dfAux = pd.read_html(r\"C:\\Users\\gusti\\grafico_prueba\\descargasCEAD/\" + filename, encoding = \"UTF-8\")\n",
    "            #Aqui hay que poner todo el proceso de limpieza de Consolidacion Descargas\n",
    "            def toNumber(num):\n",
    "                try:\n",
    "                    return int (num)/10000000000\n",
    "                except:\n",
    "                    return 0  \n",
    "            dfPrueba = dfAux[1]\n",
    "            salida = []\n",
    "            for i in dfPrueba.columns:\n",
    "                salida.append(f\"{i[0]}-{i[2]}\")\n",
    "\n",
    "            salida[0] = \"delito\"\n",
    "            dfPrueba.columns = salida\n",
    "            for i in dfPrueba.columns[1:]:\n",
    "                dfPrueba[i] = dfPrueba[i].apply(toNumber)\n",
    "            dfPrueba[\"Comuna\"] = dfAux[0][2][7]\n",
    "            dfPrueba[\"Medida\"] = dfAux[0][1][1]\n",
    "            dfPrueba[\"Tipo de datos\"] = dfAux[0][1][2]\n",
    "            dfPrueba[\"Región\"] = dfAux[0][1][5]\n",
    "            dfPrueba[\"Provincia\"] = dfAux[0][1][6]\n",
    "            dfPrueba\n",
    "            \n",
    "            delitos = {}\n",
    "            n = 0\n",
    "            for i in dfPrueba[\"delito\"]:\n",
    "                if (n>0 and n<13):\n",
    "                    delitos[i] = dfPrueba[\"delito\"][0]\n",
    "                    print(i)\n",
    "                elif (n>13 and n<19):\n",
    "                    delitos[i] = dfPrueba[\"delito\"][13]\n",
    "                    print(i)\n",
    "                elif (n>19 and n<29):\n",
    "                    delitos[i] = dfPrueba[\"delito\"][19]\n",
    "                    print(i)\n",
    "                elif (n == 29):\n",
    "                    delitos[i] = dfPrueba[\"delito\"][29]\n",
    "                    print(i)\n",
    "                elif (n == 30):\n",
    "                    delitos[i] = dfPrueba[\"delito\"][30]\n",
    "                    print(i)\n",
    "                elif (n>31 and n<37):\n",
    "                    delitos[i] = dfPrueba[\"delito\"][31]\n",
    "                    print(i)\n",
    "                elif (n == 37):\n",
    "                    delitos[i] = dfPrueba[\"delito\"][37]\n",
    "                    print(i)\n",
    "                elif (n == 38):\n",
    "                    delitos[i] = dfPrueba[\"delito\"][38]\n",
    "                    print(i)\n",
    "                n = n + 1   \n",
    "                \n",
    "            def getGrupoDelictual(deli):\n",
    "                try:\n",
    "                    return delitos[deli]\n",
    "                except:\n",
    "                    return \"Sin grupo\"\n",
    "\n",
    "            dfPrueba[\"grupo delictual\"] = dfPrueba[\"delito\"].apply(getGrupoDelictual)\n",
    "            dfPrueba = dfPrueba.drop([0],axis=0)\n",
    "            dfPrueba = dfPrueba.drop([13],axis=0)\n",
    "            dfPrueba = dfPrueba.drop([19],axis=0)\n",
    "            dfPrueba = dfPrueba.drop([31],axis=0)\n",
    "            dfPrueba\n",
    "            \n",
    "            #########################################################################\n",
    "            salidaFinal.append(dfPrueba.copy())"
   ]
  },
  {
   "cell_type": "code",
   "execution_count": null,
   "metadata": {},
   "outputs": [],
   "source": [
    "dfFinal = pd.concat(salidaFinal)"
   ]
  },
  {
   "cell_type": "code",
   "execution_count": null,
   "metadata": {},
   "outputs": [],
   "source": [
    "dfFinal.to_excel(\"Pre-Consolidado-Frecuencia.xlsx\")"
   ]
  },
  {
   "cell_type": "code",
   "execution_count": null,
   "metadata": {},
   "outputs": [],
   "source": []
  }
 ],
 "metadata": {
  "kernelspec": {
   "display_name": "Python 3",
   "language": "python",
   "name": "python3"
  },
  "language_info": {
   "codemirror_mode": {
    "name": "ipython",
    "version": 3
   },
   "file_extension": ".py",
   "mimetype": "text/x-python",
   "name": "python",
   "nbconvert_exporter": "python",
   "pygments_lexer": "ipython3",
   "version": "3.8.5"
  }
 },
 "nbformat": 4,
 "nbformat_minor": 4
}
