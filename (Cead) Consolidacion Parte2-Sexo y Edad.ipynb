{
 "cells": [
  {
   "cell_type": "code",
   "execution_count": 1,
   "metadata": {},
   "outputs": [],
   "source": [
    "import pandas as pd"
   ]
  },
  {
   "cell_type": "code",
   "execution_count": 2,
   "metadata": {},
   "outputs": [],
   "source": [
    "df = pd.read_excel(r\"C:\\Users\\gusti\\Downloads\\Localiza_CL2.xlsx\")"
   ]
  },
  {
   "cell_type": "code",
   "execution_count": 3,
   "metadata": {},
   "outputs": [],
   "source": [
    "df2 = pd.read_csv(r\"C:\\Users\\gusti\\grafico_prueba\\Pre-Consolidado-sexoEdad.csv\")"
   ]
  },
  {
   "cell_type": "code",
   "execution_count": 4,
   "metadata": {},
   "outputs": [],
   "source": [
    "df21 = df2[df2[\"Edad\"] != \"Total\"]"
   ]
  },
  {
   "cell_type": "code",
   "execution_count": 5,
   "metadata": {},
   "outputs": [],
   "source": [
    "df22 = df21[df21[\"Edad\"].notna()]"
   ]
  },
  {
   "cell_type": "code",
   "execution_count": 6,
   "metadata": {},
   "outputs": [],
   "source": [
    "df23 = df22[df22[\"Sexo\"] != \"TOTAL\"]"
   ]
  },
  {
   "cell_type": "code",
   "execution_count": 7,
   "metadata": {},
   "outputs": [],
   "source": [
    "diccionario = {}\n",
    "n = 1\n",
    "for i in df23[\"Delito\"].unique():\n",
    "    diccionario[i] = n\n",
    "    n = n +1"
   ]
  },
  {
   "cell_type": "code",
   "execution_count": 8,
   "metadata": {},
   "outputs": [],
   "source": [
    "diccionario2 = {}\n",
    "n = 1\n",
    "for i in df23[\"Grupo Delictual\"].unique():\n",
    "    diccionario2[i] = n\n",
    "    n = n +1"
   ]
  },
  {
   "cell_type": "code",
   "execution_count": 9,
   "metadata": {},
   "outputs": [
    {
     "name": "stderr",
     "output_type": "stream",
     "text": [
      "<ipython-input-9-ae93c821e7b9>:1: SettingWithCopyWarning: \n",
      "A value is trying to be set on a copy of a slice from a DataFrame.\n",
      "Try using .loc[row_indexer,col_indexer] = value instead\n",
      "\n",
      "See the caveats in the documentation: https://pandas.pydata.org/pandas-docs/stable/user_guide/indexing.html#returning-a-view-versus-a-copy\n",
      "  df23[\"CodigoDelito\"]= df23[\"Delito\"].apply(lambda x: diccionario[x])\n"
     ]
    }
   ],
   "source": [
    "df23[\"CodigoDelito\"]= df23[\"Delito\"].apply(lambda x: diccionario[x])"
   ]
  },
  {
   "cell_type": "code",
   "execution_count": 10,
   "metadata": {},
   "outputs": [
    {
     "name": "stderr",
     "output_type": "stream",
     "text": [
      "<ipython-input-10-c69bea016289>:1: SettingWithCopyWarning: \n",
      "A value is trying to be set on a copy of a slice from a DataFrame.\n",
      "Try using .loc[row_indexer,col_indexer] = value instead\n",
      "\n",
      "See the caveats in the documentation: https://pandas.pydata.org/pandas-docs/stable/user_guide/indexing.html#returning-a-view-versus-a-copy\n",
      "  df23[\"CodigoGrupDel\"]= df23[\"Grupo Delictual\"].apply(lambda x: diccionario2[x])\n"
     ]
    }
   ],
   "source": [
    "df23[\"CodigoGrupDel\"]= df23[\"Grupo Delictual\"].apply(lambda x: diccionario2[x])"
   ]
  },
  {
   "cell_type": "code",
   "execution_count": 11,
   "metadata": {},
   "outputs": [],
   "source": [
    "dfMerge = df23.merge(df, left_on='Comuna', right_on='Comuna2', how ='outer')"
   ]
  },
  {
   "cell_type": "code",
   "execution_count": 12,
   "metadata": {},
   "outputs": [],
   "source": [
    "del dfMerge[\"Latitud\"]\n",
    "del dfMerge[\"Longitud\"]"
   ]
  },
  {
   "cell_type": "code",
   "execution_count": 13,
   "metadata": {},
   "outputs": [
    {
     "data": {
      "text/plain": [
       "array(['Valparaíso', 'Metropolitana', 'Biobío', 'Atacama', 'Tarapacá',\n",
       "       'Los Lagos', 'Coquimbo', 'Araucanía', 'Antofagasta', 'Magallanes',\n",
       "       'Arica y Parinacota', 'Aysén', 'Ñuble', 'Maule', \"O'Higgins\",\n",
       "       'Los Ríos'], dtype=object)"
      ]
     },
     "execution_count": 13,
     "metadata": {},
     "output_type": "execute_result"
    }
   ],
   "source": [
    "dfMerge[\"Región_y\"].unique()"
   ]
  },
  {
   "cell_type": "code",
   "execution_count": 14,
   "metadata": {},
   "outputs": [],
   "source": [
    "dfMerge2 = dfMerge[dfMerge[\"Tipo participante\"].notna()]"
   ]
  },
  {
   "cell_type": "code",
   "execution_count": 15,
   "metadata": {},
   "outputs": [],
   "source": [
    "for i in dfMerge2[\"Región_y\"].unique():\n",
    "    dfOut = dfMerge2[dfMerge2[\"Región_y\"] == i]\n",
    "    dfOut.to_excel(f\"Consolidado-SexoEdad-{i}.xlsx\", index = False)"
   ]
  },
  {
   "cell_type": "code",
   "execution_count": null,
   "metadata": {},
   "outputs": [],
   "source": [
    "dfMerge2.to_excel(\"Consolidado-SexoEdad.xlsx\", index = False)"
   ]
  },
  {
   "cell_type": "code",
   "execution_count": null,
   "metadata": {},
   "outputs": [],
   "source": [
    "Comunas = df2[\"Comuna\"].unique()\n",
    "pd.DataFrame({'Comuna':Comunas}).to_excel(\"Comunas.xlsx\")"
   ]
  },
  {
   "cell_type": "code",
   "execution_count": null,
   "metadata": {},
   "outputs": [],
   "source": []
  }
 ],
 "metadata": {
  "kernelspec": {
   "display_name": "Python 3",
   "language": "python",
   "name": "python3"
  },
  "language_info": {
   "codemirror_mode": {
    "name": "ipython",
    "version": 3
   },
   "file_extension": ".py",
   "mimetype": "text/x-python",
   "name": "python",
   "nbconvert_exporter": "python",
   "pygments_lexer": "ipython3",
   "version": "3.8.5"
  }
 },
 "nbformat": 4,
 "nbformat_minor": 4
}
